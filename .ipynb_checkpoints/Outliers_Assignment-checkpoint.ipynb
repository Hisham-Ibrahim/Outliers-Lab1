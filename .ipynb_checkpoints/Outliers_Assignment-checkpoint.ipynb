{
 "cells": [
  {
   "cell_type": "markdown",
   "id": "timely-involvement",
   "metadata": {},
   "source": [
    "### Import your librares"
   ]
  },
  {
   "cell_type": "code",
   "execution_count": 95,
   "id": "dramatic-briefs",
   "metadata": {},
   "outputs": [],
   "source": [
    "import pandas as pd \n",
    "import numpy as np \n",
    "import matplotlib.pyplot as plt \n",
    "import seaborn as sns\n",
    "from scipy import stats\n",
    "from scipy.stats import iqr"
   ]
  },
  {
   "cell_type": "markdown",
   "id": "australian-softball",
   "metadata": {},
   "source": [
    "### Load your dataset"
   ]
  },
  {
   "cell_type": "code",
   "execution_count": 96,
   "id": "average-recipient",
   "metadata": {},
   "outputs": [],
   "source": [
    "df = pd.read_csv('seattle_weather.csv')"
   ]
  },
  {
   "cell_type": "code",
   "execution_count": 97,
   "id": "6f87759b",
   "metadata": {},
   "outputs": [
    {
     "data": {
      "text/html": [
       "<div>\n",
       "<style scoped>\n",
       "    .dataframe tbody tr th:only-of-type {\n",
       "        vertical-align: middle;\n",
       "    }\n",
       "\n",
       "    .dataframe tbody tr th {\n",
       "        vertical-align: top;\n",
       "    }\n",
       "\n",
       "    .dataframe thead th {\n",
       "        text-align: right;\n",
       "    }\n",
       "</style>\n",
       "<table border=\"1\" class=\"dataframe\">\n",
       "  <thead>\n",
       "    <tr style=\"text-align: right;\">\n",
       "      <th></th>\n",
       "      <th>DATE</th>\n",
       "      <th>PRCP</th>\n",
       "      <th>TMAX</th>\n",
       "      <th>TMIN</th>\n",
       "      <th>RAIN</th>\n",
       "    </tr>\n",
       "  </thead>\n",
       "  <tbody>\n",
       "    <tr>\n",
       "      <th>0</th>\n",
       "      <td>1948-01-01</td>\n",
       "      <td>0.470</td>\n",
       "      <td>51</td>\n",
       "      <td>42</td>\n",
       "      <td>True</td>\n",
       "    </tr>\n",
       "    <tr>\n",
       "      <th>1</th>\n",
       "      <td>1948-01-02</td>\n",
       "      <td>0.590</td>\n",
       "      <td>45</td>\n",
       "      <td>36</td>\n",
       "      <td>True</td>\n",
       "    </tr>\n",
       "    <tr>\n",
       "      <th>2</th>\n",
       "      <td>1948-01-03</td>\n",
       "      <td>0.420</td>\n",
       "      <td>45</td>\n",
       "      <td>35</td>\n",
       "      <td>True</td>\n",
       "    </tr>\n",
       "    <tr>\n",
       "      <th>3</th>\n",
       "      <td>1948-01-04</td>\n",
       "      <td>0.310</td>\n",
       "      <td>45</td>\n",
       "      <td>34</td>\n",
       "      <td>True</td>\n",
       "    </tr>\n",
       "    <tr>\n",
       "      <th>4</th>\n",
       "      <td>1948-01-05</td>\n",
       "      <td>0.170</td>\n",
       "      <td>45</td>\n",
       "      <td>32</td>\n",
       "      <td>True</td>\n",
       "    </tr>\n",
       "  </tbody>\n",
       "</table>\n",
       "</div>"
      ],
      "text/plain": [
       "         DATE  PRCP  TMAX  TMIN  RAIN\n",
       "0  1948-01-01 0.470    51    42  True\n",
       "1  1948-01-02 0.590    45    36  True\n",
       "2  1948-01-03 0.420    45    35  True\n",
       "3  1948-01-04 0.310    45    34  True\n",
       "4  1948-01-05 0.170    45    32  True"
      ]
     },
     "execution_count": 97,
     "metadata": {},
     "output_type": "execute_result"
    }
   ],
   "source": [
    "df.head()"
   ]
  },
  {
   "cell_type": "markdown",
   "id": "9f68b54e",
   "metadata": {},
   "source": [
    "### Handle missing data in PRCP and RAIN columns"
   ]
  },
  {
   "cell_type": "code",
   "execution_count": 98,
   "id": "211061f7",
   "metadata": {},
   "outputs": [],
   "source": [
    "df7 = pd.DataFrame(df, columns=['PRCP','TMAX','TMIN'])"
   ]
  },
  {
   "cell_type": "code",
   "execution_count": 99,
   "id": "7ffd3dac",
   "metadata": {},
   "outputs": [
    {
     "name": "stdout",
     "output_type": "stream",
     "text": [
      "StandardScaler()\n"
     ]
    }
   ],
   "source": [
    "from sklearn.preprocessing import StandardScaler\n",
    "scaler = StandardScaler()\n",
    "print(scaler.fit(df7))"
   ]
  },
  {
   "cell_type": "code",
   "execution_count": 100,
   "id": "6fea5506",
   "metadata": {},
   "outputs": [
    {
     "data": {
      "text/html": [
       "<div>\n",
       "<style scoped>\n",
       "    .dataframe tbody tr th:only-of-type {\n",
       "        vertical-align: middle;\n",
       "    }\n",
       "\n",
       "    .dataframe tbody tr th {\n",
       "        vertical-align: top;\n",
       "    }\n",
       "\n",
       "    .dataframe thead th {\n",
       "        text-align: right;\n",
       "    }\n",
       "</style>\n",
       "<table border=\"1\" class=\"dataframe\">\n",
       "  <thead>\n",
       "    <tr style=\"text-align: right;\">\n",
       "      <th></th>\n",
       "      <th>PRCP</th>\n",
       "      <th>TMAX</th>\n",
       "      <th>TMIN</th>\n",
       "    </tr>\n",
       "  </thead>\n",
       "  <tbody>\n",
       "    <tr>\n",
       "      <th>0</th>\n",
       "      <td>1.522</td>\n",
       "      <td>-0.669</td>\n",
       "      <td>-0.283</td>\n",
       "    </tr>\n",
       "    <tr>\n",
       "      <th>1</th>\n",
       "      <td>2.024</td>\n",
       "      <td>-1.139</td>\n",
       "      <td>-0.957</td>\n",
       "    </tr>\n",
       "    <tr>\n",
       "      <th>2</th>\n",
       "      <td>1.313</td>\n",
       "      <td>-1.139</td>\n",
       "      <td>-1.070</td>\n",
       "    </tr>\n",
       "    <tr>\n",
       "      <th>3</th>\n",
       "      <td>0.853</td>\n",
       "      <td>-1.139</td>\n",
       "      <td>-1.182</td>\n",
       "    </tr>\n",
       "    <tr>\n",
       "      <th>4</th>\n",
       "      <td>0.267</td>\n",
       "      <td>-1.139</td>\n",
       "      <td>-1.407</td>\n",
       "    </tr>\n",
       "    <tr>\n",
       "      <th>...</th>\n",
       "      <td>...</td>\n",
       "      <td>...</td>\n",
       "      <td>...</td>\n",
       "    </tr>\n",
       "    <tr>\n",
       "      <th>25546</th>\n",
       "      <td>-0.444</td>\n",
       "      <td>-0.826</td>\n",
       "      <td>-1.182</td>\n",
       "    </tr>\n",
       "    <tr>\n",
       "      <th>25547</th>\n",
       "      <td>-0.444</td>\n",
       "      <td>-0.826</td>\n",
       "      <td>-1.745</td>\n",
       "    </tr>\n",
       "    <tr>\n",
       "      <th>25548</th>\n",
       "      <td>-0.444</td>\n",
       "      <td>-1.060</td>\n",
       "      <td>-1.407</td>\n",
       "    </tr>\n",
       "    <tr>\n",
       "      <th>25549</th>\n",
       "      <td>-0.444</td>\n",
       "      <td>-0.904</td>\n",
       "      <td>-1.182</td>\n",
       "    </tr>\n",
       "    <tr>\n",
       "      <th>25550</th>\n",
       "      <td>-0.444</td>\n",
       "      <td>-0.747</td>\n",
       "      <td>-0.957</td>\n",
       "    </tr>\n",
       "  </tbody>\n",
       "</table>\n",
       "<p>25551 rows × 3 columns</p>\n",
       "</div>"
      ],
      "text/plain": [
       "        PRCP   TMAX   TMIN\n",
       "0      1.522 -0.669 -0.283\n",
       "1      2.024 -1.139 -0.957\n",
       "2      1.313 -1.139 -1.070\n",
       "3      0.853 -1.139 -1.182\n",
       "4      0.267 -1.139 -1.407\n",
       "...      ...    ...    ...\n",
       "25546 -0.444 -0.826 -1.182\n",
       "25547 -0.444 -0.826 -1.745\n",
       "25548 -0.444 -1.060 -1.407\n",
       "25549 -0.444 -0.904 -1.182\n",
       "25550 -0.444 -0.747 -0.957\n",
       "\n",
       "[25551 rows x 3 columns]"
      ]
     },
     "execution_count": 100,
     "metadata": {},
     "output_type": "execute_result"
    }
   ],
   "source": [
    "standarizes_data = scaler.fit_transform(df7)\n",
    "standarizes_data = pd.DataFrame(standarizes_data, columns=['PRCP','TMAX','TMIN'])\n",
    "standarizes_data\n"
   ]
  },
  {
   "cell_type": "code",
   "execution_count": 101,
   "id": "1da4aefe",
   "metadata": {},
   "outputs": [
    {
     "data": {
      "text/html": [
       "<div>\n",
       "<style scoped>\n",
       "    .dataframe tbody tr th:only-of-type {\n",
       "        vertical-align: middle;\n",
       "    }\n",
       "\n",
       "    .dataframe tbody tr th {\n",
       "        vertical-align: top;\n",
       "    }\n",
       "\n",
       "    .dataframe thead th {\n",
       "        text-align: right;\n",
       "    }\n",
       "</style>\n",
       "<table border=\"1\" class=\"dataframe\">\n",
       "  <thead>\n",
       "    <tr style=\"text-align: right;\">\n",
       "      <th></th>\n",
       "      <th>PRCP</th>\n",
       "      <th>TMAX</th>\n",
       "      <th>TMIN</th>\n",
       "    </tr>\n",
       "  </thead>\n",
       "  <tbody>\n",
       "    <tr>\n",
       "      <th>count</th>\n",
       "      <td>25548.000</td>\n",
       "      <td>25551.000</td>\n",
       "      <td>25551.000</td>\n",
       "    </tr>\n",
       "    <tr>\n",
       "      <th>mean</th>\n",
       "      <td>-0.000</td>\n",
       "      <td>0.000</td>\n",
       "      <td>-0.000</td>\n",
       "    </tr>\n",
       "    <tr>\n",
       "      <th>std</th>\n",
       "      <td>1.000</td>\n",
       "      <td>1.000</td>\n",
       "      <td>1.000</td>\n",
       "    </tr>\n",
       "    <tr>\n",
       "      <th>min</th>\n",
       "      <td>-0.444</td>\n",
       "      <td>-4.349</td>\n",
       "      <td>-5.006</td>\n",
       "    </tr>\n",
       "    <tr>\n",
       "      <th>25%</th>\n",
       "      <td>-0.444</td>\n",
       "      <td>-0.747</td>\n",
       "      <td>-0.733</td>\n",
       "    </tr>\n",
       "    <tr>\n",
       "      <th>50%</th>\n",
       "      <td>-0.444</td>\n",
       "      <td>-0.121</td>\n",
       "      <td>0.055</td>\n",
       "    </tr>\n",
       "    <tr>\n",
       "      <th>75%</th>\n",
       "      <td>-0.026</td>\n",
       "      <td>0.740</td>\n",
       "      <td>0.842</td>\n",
       "    </tr>\n",
       "    <tr>\n",
       "      <th>max</th>\n",
       "      <td>20.557</td>\n",
       "      <td>3.402</td>\n",
       "      <td>2.978</td>\n",
       "    </tr>\n",
       "  </tbody>\n",
       "</table>\n",
       "</div>"
      ],
      "text/plain": [
       "           PRCP      TMAX      TMIN\n",
       "count 25548.000 25551.000 25551.000\n",
       "mean     -0.000     0.000    -0.000\n",
       "std       1.000     1.000     1.000\n",
       "min      -0.444    -4.349    -5.006\n",
       "25%      -0.444    -0.747    -0.733\n",
       "50%      -0.444    -0.121     0.055\n",
       "75%      -0.026     0.740     0.842\n",
       "max      20.557     3.402     2.978"
      ]
     },
     "execution_count": 101,
     "metadata": {},
     "output_type": "execute_result"
    }
   ],
   "source": [
    "pd.set_option('display.float_format', lambda x: '%.3f' % x)\n",
    "standarizes_data.describe() # now mean = 0, std = 1"
   ]
  },
  {
   "cell_type": "code",
   "execution_count": 102,
   "id": "0bc7be82",
   "metadata": {},
   "outputs": [
    {
     "name": "stdout",
     "output_type": "stream",
     "text": [
      "[ 0.10622162 59.54420571 44.51422645]\n",
      "[5.71338020e-02 1.63142727e+02 7.90794325e+01]\n"
     ]
    }
   ],
   "source": [
    "print(scaler.mean_)\n",
    "print(scaler.var_)"
   ]
  },
  {
   "cell_type": "code",
   "execution_count": 103,
   "id": "0801bd07",
   "metadata": {
    "scrolled": true
   },
   "outputs": [
    {
     "data": {
      "text/html": [
       "<div>\n",
       "<style scoped>\n",
       "    .dataframe tbody tr th:only-of-type {\n",
       "        vertical-align: middle;\n",
       "    }\n",
       "\n",
       "    .dataframe tbody tr th {\n",
       "        vertical-align: top;\n",
       "    }\n",
       "\n",
       "    .dataframe thead th {\n",
       "        text-align: right;\n",
       "    }\n",
       "</style>\n",
       "<table border=\"1\" class=\"dataframe\">\n",
       "  <thead>\n",
       "    <tr style=\"text-align: right;\">\n",
       "      <th></th>\n",
       "      <th>DATE</th>\n",
       "      <th>PRCP</th>\n",
       "      <th>TMAX</th>\n",
       "      <th>TMIN</th>\n",
       "      <th>RAIN</th>\n",
       "    </tr>\n",
       "  </thead>\n",
       "  <tbody>\n",
       "    <tr>\n",
       "      <th>18415</th>\n",
       "      <td>1998-06-02</td>\n",
       "      <td>NaN</td>\n",
       "      <td>72</td>\n",
       "      <td>52</td>\n",
       "      <td>NaN</td>\n",
       "    </tr>\n",
       "    <tr>\n",
       "      <th>18416</th>\n",
       "      <td>1998-06-03</td>\n",
       "      <td>NaN</td>\n",
       "      <td>66</td>\n",
       "      <td>51</td>\n",
       "      <td>NaN</td>\n",
       "    </tr>\n",
       "    <tr>\n",
       "      <th>21067</th>\n",
       "      <td>2005-09-05</td>\n",
       "      <td>NaN</td>\n",
       "      <td>70</td>\n",
       "      <td>52</td>\n",
       "      <td>NaN</td>\n",
       "    </tr>\n",
       "  </tbody>\n",
       "</table>\n",
       "</div>"
      ],
      "text/plain": [
       "             DATE  PRCP  TMAX  TMIN RAIN\n",
       "18415  1998-06-02   NaN    72    52  NaN\n",
       "18416  1998-06-03   NaN    66    51  NaN\n",
       "21067  2005-09-05   NaN    70    52  NaN"
      ]
     },
     "execution_count": 103,
     "metadata": {},
     "output_type": "execute_result"
    }
   ],
   "source": [
    "df[df['PRCP'].isnull()]\n"
   ]
  },
  {
   "cell_type": "code",
   "execution_count": 104,
   "id": "90582815",
   "metadata": {},
   "outputs": [
    {
     "data": {
      "text/html": [
       "<div>\n",
       "<style scoped>\n",
       "    .dataframe tbody tr th:only-of-type {\n",
       "        vertical-align: middle;\n",
       "    }\n",
       "\n",
       "    .dataframe tbody tr th {\n",
       "        vertical-align: top;\n",
       "    }\n",
       "\n",
       "    .dataframe thead th {\n",
       "        text-align: right;\n",
       "    }\n",
       "</style>\n",
       "<table border=\"1\" class=\"dataframe\">\n",
       "  <thead>\n",
       "    <tr style=\"text-align: right;\">\n",
       "      <th></th>\n",
       "      <th>DATE</th>\n",
       "      <th>PRCP</th>\n",
       "      <th>TMAX</th>\n",
       "      <th>TMIN</th>\n",
       "      <th>RAIN</th>\n",
       "    </tr>\n",
       "  </thead>\n",
       "  <tbody>\n",
       "    <tr>\n",
       "      <th>18415</th>\n",
       "      <td>1998-06-02</td>\n",
       "      <td>NaN</td>\n",
       "      <td>72</td>\n",
       "      <td>52</td>\n",
       "      <td>NaN</td>\n",
       "    </tr>\n",
       "    <tr>\n",
       "      <th>18416</th>\n",
       "      <td>1998-06-03</td>\n",
       "      <td>NaN</td>\n",
       "      <td>66</td>\n",
       "      <td>51</td>\n",
       "      <td>NaN</td>\n",
       "    </tr>\n",
       "    <tr>\n",
       "      <th>21067</th>\n",
       "      <td>2005-09-05</td>\n",
       "      <td>NaN</td>\n",
       "      <td>70</td>\n",
       "      <td>52</td>\n",
       "      <td>NaN</td>\n",
       "    </tr>\n",
       "  </tbody>\n",
       "</table>\n",
       "</div>"
      ],
      "text/plain": [
       "             DATE  PRCP  TMAX  TMIN RAIN\n",
       "18415  1998-06-02   NaN    72    52  NaN\n",
       "18416  1998-06-03   NaN    66    51  NaN\n",
       "21067  2005-09-05   NaN    70    52  NaN"
      ]
     },
     "execution_count": 104,
     "metadata": {},
     "output_type": "execute_result"
    }
   ],
   "source": [
    "df[df['RAIN'].isnull()]"
   ]
  },
  {
   "cell_type": "code",
   "execution_count": 105,
   "id": "e9e5b177",
   "metadata": {
    "scrolled": false
   },
   "outputs": [
    {
     "name": "stdout",
     "output_type": "stream",
     "text": [
      "         DATE  PRCP  TMAX  TMIN  RAIN\n",
      "0  1948-01-01 0.470    51    42  True\n",
      "1  1948-01-02 0.590    45    36  True\n",
      "========================================\n",
      "          DATE  PRCP  TMAX  TMIN   RAIN\n",
      "10  1948-01-11 0.010    42    32   True\n",
      "11  1948-01-12 0.000    41    26  False\n",
      "========================================\n",
      "          DATE  PRCP  TMAX  TMIN   RAIN\n",
      "20  1948-01-21 0.000    48    32  False\n",
      "21  1948-01-22 0.210    47    44   True\n"
     ]
    }
   ],
   "source": [
    "print(df.iloc[:10].head(2))\n",
    "print('=='*20)\n",
    "print(df.iloc[10:20].head(2))\n",
    "print('=='*20)\n",
    "print(df.iloc[20:].head(2))"
   ]
  },
  {
   "cell_type": "code",
   "execution_count": 106,
   "id": "c84a2261",
   "metadata": {},
   "outputs": [
    {
     "data": {
      "text/html": [
       "<div>\n",
       "<style scoped>\n",
       "    .dataframe tbody tr th:only-of-type {\n",
       "        vertical-align: middle;\n",
       "    }\n",
       "\n",
       "    .dataframe tbody tr th {\n",
       "        vertical-align: top;\n",
       "    }\n",
       "\n",
       "    .dataframe thead th {\n",
       "        text-align: right;\n",
       "    }\n",
       "</style>\n",
       "<table border=\"1\" class=\"dataframe\">\n",
       "  <thead>\n",
       "    <tr style=\"text-align: right;\">\n",
       "      <th></th>\n",
       "      <th>PRCP</th>\n",
       "      <th>TMAX</th>\n",
       "      <th>TMIN</th>\n",
       "    </tr>\n",
       "  </thead>\n",
       "  <tbody>\n",
       "    <tr>\n",
       "      <th>238</th>\n",
       "      <td>0.010</td>\n",
       "      <td>72</td>\n",
       "      <td>52</td>\n",
       "    </tr>\n",
       "    <tr>\n",
       "      <th>922</th>\n",
       "      <td>0.000</td>\n",
       "      <td>72</td>\n",
       "      <td>52</td>\n",
       "    </tr>\n",
       "    <tr>\n",
       "      <th>941</th>\n",
       "      <td>0.000</td>\n",
       "      <td>72</td>\n",
       "      <td>52</td>\n",
       "    </tr>\n",
       "    <tr>\n",
       "      <th>1315</th>\n",
       "      <td>0.000</td>\n",
       "      <td>72</td>\n",
       "      <td>52</td>\n",
       "    </tr>\n",
       "    <tr>\n",
       "      <th>2083</th>\n",
       "      <td>0.000</td>\n",
       "      <td>72</td>\n",
       "      <td>52</td>\n",
       "    </tr>\n",
       "    <tr>\n",
       "      <th>3107</th>\n",
       "      <td>0.030</td>\n",
       "      <td>72</td>\n",
       "      <td>52</td>\n",
       "    </tr>\n",
       "    <tr>\n",
       "      <th>3407</th>\n",
       "      <td>0.010</td>\n",
       "      <td>72</td>\n",
       "      <td>52</td>\n",
       "    </tr>\n",
       "    <tr>\n",
       "      <th>3460</th>\n",
       "      <td>0.000</td>\n",
       "      <td>72</td>\n",
       "      <td>52</td>\n",
       "    </tr>\n",
       "    <tr>\n",
       "      <th>3555</th>\n",
       "      <td>0.000</td>\n",
       "      <td>72</td>\n",
       "      <td>52</td>\n",
       "    </tr>\n",
       "    <tr>\n",
       "      <th>3845</th>\n",
       "      <td>0.000</td>\n",
       "      <td>72</td>\n",
       "      <td>52</td>\n",
       "    </tr>\n",
       "    <tr>\n",
       "      <th>4199</th>\n",
       "      <td>0.000</td>\n",
       "      <td>72</td>\n",
       "      <td>52</td>\n",
       "    </tr>\n",
       "    <tr>\n",
       "      <th>5305</th>\n",
       "      <td>0.000</td>\n",
       "      <td>72</td>\n",
       "      <td>52</td>\n",
       "    </tr>\n",
       "    <tr>\n",
       "      <th>5310</th>\n",
       "      <td>0.020</td>\n",
       "      <td>72</td>\n",
       "      <td>52</td>\n",
       "    </tr>\n",
       "    <tr>\n",
       "      <th>5630</th>\n",
       "      <td>0.000</td>\n",
       "      <td>72</td>\n",
       "      <td>52</td>\n",
       "    </tr>\n",
       "    <tr>\n",
       "      <th>5708</th>\n",
       "      <td>0.100</td>\n",
       "      <td>72</td>\n",
       "      <td>52</td>\n",
       "    </tr>\n",
       "    <tr>\n",
       "      <th>6377</th>\n",
       "      <td>0.000</td>\n",
       "      <td>72</td>\n",
       "      <td>52</td>\n",
       "    </tr>\n",
       "    <tr>\n",
       "      <th>6457</th>\n",
       "      <td>0.000</td>\n",
       "      <td>72</td>\n",
       "      <td>52</td>\n",
       "    </tr>\n",
       "    <tr>\n",
       "      <th>7507</th>\n",
       "      <td>0.000</td>\n",
       "      <td>72</td>\n",
       "      <td>52</td>\n",
       "    </tr>\n",
       "    <tr>\n",
       "      <th>7888</th>\n",
       "      <td>0.000</td>\n",
       "      <td>72</td>\n",
       "      <td>52</td>\n",
       "    </tr>\n",
       "    <tr>\n",
       "      <th>8659</th>\n",
       "      <td>0.000</td>\n",
       "      <td>72</td>\n",
       "      <td>52</td>\n",
       "    </tr>\n",
       "    <tr>\n",
       "      <th>8948</th>\n",
       "      <td>0.000</td>\n",
       "      <td>72</td>\n",
       "      <td>52</td>\n",
       "    </tr>\n",
       "    <tr>\n",
       "      <th>9387</th>\n",
       "      <td>0.000</td>\n",
       "      <td>72</td>\n",
       "      <td>52</td>\n",
       "    </tr>\n",
       "    <tr>\n",
       "      <th>10398</th>\n",
       "      <td>0.000</td>\n",
       "      <td>72</td>\n",
       "      <td>52</td>\n",
       "    </tr>\n",
       "    <tr>\n",
       "      <th>11589</th>\n",
       "      <td>0.000</td>\n",
       "      <td>72</td>\n",
       "      <td>52</td>\n",
       "    </tr>\n",
       "    <tr>\n",
       "      <th>11942</th>\n",
       "      <td>0.000</td>\n",
       "      <td>72</td>\n",
       "      <td>52</td>\n",
       "    </tr>\n",
       "    <tr>\n",
       "      <th>12605</th>\n",
       "      <td>0.080</td>\n",
       "      <td>72</td>\n",
       "      <td>52</td>\n",
       "    </tr>\n",
       "    <tr>\n",
       "      <th>14805</th>\n",
       "      <td>0.000</td>\n",
       "      <td>72</td>\n",
       "      <td>52</td>\n",
       "    </tr>\n",
       "    <tr>\n",
       "      <th>15188</th>\n",
       "      <td>0.000</td>\n",
       "      <td>72</td>\n",
       "      <td>52</td>\n",
       "    </tr>\n",
       "    <tr>\n",
       "      <th>15577</th>\n",
       "      <td>0.000</td>\n",
       "      <td>72</td>\n",
       "      <td>52</td>\n",
       "    </tr>\n",
       "    <tr>\n",
       "      <th>16304</th>\n",
       "      <td>0.000</td>\n",
       "      <td>72</td>\n",
       "      <td>52</td>\n",
       "    </tr>\n",
       "    <tr>\n",
       "      <th>16576</th>\n",
       "      <td>0.140</td>\n",
       "      <td>72</td>\n",
       "      <td>52</td>\n",
       "    </tr>\n",
       "    <tr>\n",
       "      <th>16617</th>\n",
       "      <td>0.000</td>\n",
       "      <td>72</td>\n",
       "      <td>52</td>\n",
       "    </tr>\n",
       "    <tr>\n",
       "      <th>16932</th>\n",
       "      <td>0.000</td>\n",
       "      <td>72</td>\n",
       "      <td>52</td>\n",
       "    </tr>\n",
       "    <tr>\n",
       "      <th>17046</th>\n",
       "      <td>0.130</td>\n",
       "      <td>72</td>\n",
       "      <td>52</td>\n",
       "    </tr>\n",
       "    <tr>\n",
       "      <th>17403</th>\n",
       "      <td>0.000</td>\n",
       "      <td>72</td>\n",
       "      <td>52</td>\n",
       "    </tr>\n",
       "    <tr>\n",
       "      <th>17745</th>\n",
       "      <td>0.000</td>\n",
       "      <td>72</td>\n",
       "      <td>52</td>\n",
       "    </tr>\n",
       "    <tr>\n",
       "      <th>18096</th>\n",
       "      <td>0.000</td>\n",
       "      <td>72</td>\n",
       "      <td>52</td>\n",
       "    </tr>\n",
       "    <tr>\n",
       "      <th>18415</th>\n",
       "      <td>NaN</td>\n",
       "      <td>72</td>\n",
       "      <td>52</td>\n",
       "    </tr>\n",
       "    <tr>\n",
       "      <th>18425</th>\n",
       "      <td>0.000</td>\n",
       "      <td>72</td>\n",
       "      <td>52</td>\n",
       "    </tr>\n",
       "    <tr>\n",
       "      <th>22454</th>\n",
       "      <td>0.000</td>\n",
       "      <td>72</td>\n",
       "      <td>52</td>\n",
       "    </tr>\n",
       "    <tr>\n",
       "      <th>22846</th>\n",
       "      <td>0.000</td>\n",
       "      <td>72</td>\n",
       "      <td>52</td>\n",
       "    </tr>\n",
       "    <tr>\n",
       "      <th>23167</th>\n",
       "      <td>0.000</td>\n",
       "      <td>72</td>\n",
       "      <td>52</td>\n",
       "    </tr>\n",
       "    <tr>\n",
       "      <th>23634</th>\n",
       "      <td>0.000</td>\n",
       "      <td>72</td>\n",
       "      <td>52</td>\n",
       "    </tr>\n",
       "    <tr>\n",
       "      <th>23895</th>\n",
       "      <td>0.000</td>\n",
       "      <td>72</td>\n",
       "      <td>52</td>\n",
       "    </tr>\n",
       "    <tr>\n",
       "      <th>24738</th>\n",
       "      <td>0.000</td>\n",
       "      <td>72</td>\n",
       "      <td>52</td>\n",
       "    </tr>\n",
       "    <tr>\n",
       "      <th>25095</th>\n",
       "      <td>0.000</td>\n",
       "      <td>72</td>\n",
       "      <td>52</td>\n",
       "    </tr>\n",
       "    <tr>\n",
       "      <th>25353</th>\n",
       "      <td>0.110</td>\n",
       "      <td>72</td>\n",
       "      <td>52</td>\n",
       "    </tr>\n",
       "  </tbody>\n",
       "</table>\n",
       "</div>"
      ],
      "text/plain": [
       "       PRCP  TMAX  TMIN\n",
       "238   0.010    72    52\n",
       "922   0.000    72    52\n",
       "941   0.000    72    52\n",
       "1315  0.000    72    52\n",
       "2083  0.000    72    52\n",
       "3107  0.030    72    52\n",
       "3407  0.010    72    52\n",
       "3460  0.000    72    52\n",
       "3555  0.000    72    52\n",
       "3845  0.000    72    52\n",
       "4199  0.000    72    52\n",
       "5305  0.000    72    52\n",
       "5310  0.020    72    52\n",
       "5630  0.000    72    52\n",
       "5708  0.100    72    52\n",
       "6377  0.000    72    52\n",
       "6457  0.000    72    52\n",
       "7507  0.000    72    52\n",
       "7888  0.000    72    52\n",
       "8659  0.000    72    52\n",
       "8948  0.000    72    52\n",
       "9387  0.000    72    52\n",
       "10398 0.000    72    52\n",
       "11589 0.000    72    52\n",
       "11942 0.000    72    52\n",
       "12605 0.080    72    52\n",
       "14805 0.000    72    52\n",
       "15188 0.000    72    52\n",
       "15577 0.000    72    52\n",
       "16304 0.000    72    52\n",
       "16576 0.140    72    52\n",
       "16617 0.000    72    52\n",
       "16932 0.000    72    52\n",
       "17046 0.130    72    52\n",
       "17403 0.000    72    52\n",
       "17745 0.000    72    52\n",
       "18096 0.000    72    52\n",
       "18415   NaN    72    52\n",
       "18425 0.000    72    52\n",
       "22454 0.000    72    52\n",
       "22846 0.000    72    52\n",
       "23167 0.000    72    52\n",
       "23634 0.000    72    52\n",
       "23895 0.000    72    52\n",
       "24738 0.000    72    52\n",
       "25095 0.000    72    52\n",
       "25353 0.110    72    52"
      ]
     },
     "execution_count": 106,
     "metadata": {},
     "output_type": "execute_result"
    }
   ],
   "source": [
    "df7.query('TMAX == 72 and TMIN ==52')"
   ]
  },
  {
   "cell_type": "code",
   "execution_count": 107,
   "id": "dee28960",
   "metadata": {},
   "outputs": [
    {
     "data": {
      "text/html": [
       "<div>\n",
       "<style scoped>\n",
       "    .dataframe tbody tr th:only-of-type {\n",
       "        vertical-align: middle;\n",
       "    }\n",
       "\n",
       "    .dataframe tbody tr th {\n",
       "        vertical-align: top;\n",
       "    }\n",
       "\n",
       "    .dataframe thead th {\n",
       "        text-align: right;\n",
       "    }\n",
       "</style>\n",
       "<table border=\"1\" class=\"dataframe\">\n",
       "  <thead>\n",
       "    <tr style=\"text-align: right;\">\n",
       "      <th></th>\n",
       "      <th>PRCP</th>\n",
       "      <th>TMAX</th>\n",
       "      <th>TMIN</th>\n",
       "    </tr>\n",
       "  </thead>\n",
       "  <tbody>\n",
       "    <tr>\n",
       "      <th>168</th>\n",
       "      <td>0.010</td>\n",
       "      <td>66</td>\n",
       "      <td>51</td>\n",
       "    </tr>\n",
       "    <tr>\n",
       "      <th>188</th>\n",
       "      <td>0.090</td>\n",
       "      <td>66</td>\n",
       "      <td>51</td>\n",
       "    </tr>\n",
       "    <tr>\n",
       "      <th>633</th>\n",
       "      <td>0.000</td>\n",
       "      <td>66</td>\n",
       "      <td>51</td>\n",
       "    </tr>\n",
       "    <tr>\n",
       "      <th>2010</th>\n",
       "      <td>0.000</td>\n",
       "      <td>66</td>\n",
       "      <td>51</td>\n",
       "    </tr>\n",
       "    <tr>\n",
       "      <th>2364</th>\n",
       "      <td>0.000</td>\n",
       "      <td>66</td>\n",
       "      <td>51</td>\n",
       "    </tr>\n",
       "    <tr>\n",
       "      <th>2762</th>\n",
       "      <td>0.130</td>\n",
       "      <td>66</td>\n",
       "      <td>51</td>\n",
       "    </tr>\n",
       "    <tr>\n",
       "      <th>2779</th>\n",
       "      <td>0.000</td>\n",
       "      <td>66</td>\n",
       "      <td>51</td>\n",
       "    </tr>\n",
       "    <tr>\n",
       "      <th>3062</th>\n",
       "      <td>0.000</td>\n",
       "      <td>66</td>\n",
       "      <td>51</td>\n",
       "    </tr>\n",
       "    <tr>\n",
       "      <th>3106</th>\n",
       "      <td>0.000</td>\n",
       "      <td>66</td>\n",
       "      <td>51</td>\n",
       "    </tr>\n",
       "    <tr>\n",
       "      <th>3832</th>\n",
       "      <td>0.000</td>\n",
       "      <td>66</td>\n",
       "      <td>51</td>\n",
       "    </tr>\n",
       "    <tr>\n",
       "      <th>3923</th>\n",
       "      <td>0.000</td>\n",
       "      <td>66</td>\n",
       "      <td>51</td>\n",
       "    </tr>\n",
       "    <tr>\n",
       "      <th>4623</th>\n",
       "      <td>0.020</td>\n",
       "      <td>66</td>\n",
       "      <td>51</td>\n",
       "    </tr>\n",
       "    <tr>\n",
       "      <th>5346</th>\n",
       "      <td>0.000</td>\n",
       "      <td>66</td>\n",
       "      <td>51</td>\n",
       "    </tr>\n",
       "    <tr>\n",
       "      <th>6735</th>\n",
       "      <td>0.120</td>\n",
       "      <td>66</td>\n",
       "      <td>51</td>\n",
       "    </tr>\n",
       "    <tr>\n",
       "      <th>6852</th>\n",
       "      <td>0.000</td>\n",
       "      <td>66</td>\n",
       "      <td>51</td>\n",
       "    </tr>\n",
       "    <tr>\n",
       "      <th>7242</th>\n",
       "      <td>0.030</td>\n",
       "      <td>66</td>\n",
       "      <td>51</td>\n",
       "    </tr>\n",
       "    <tr>\n",
       "      <th>7451</th>\n",
       "      <td>0.000</td>\n",
       "      <td>66</td>\n",
       "      <td>51</td>\n",
       "    </tr>\n",
       "    <tr>\n",
       "      <th>7974</th>\n",
       "      <td>0.000</td>\n",
       "      <td>66</td>\n",
       "      <td>51</td>\n",
       "    </tr>\n",
       "    <tr>\n",
       "      <th>8178</th>\n",
       "      <td>0.000</td>\n",
       "      <td>66</td>\n",
       "      <td>51</td>\n",
       "    </tr>\n",
       "    <tr>\n",
       "      <th>8292</th>\n",
       "      <td>0.000</td>\n",
       "      <td>66</td>\n",
       "      <td>51</td>\n",
       "    </tr>\n",
       "    <tr>\n",
       "      <th>8308</th>\n",
       "      <td>0.000</td>\n",
       "      <td>66</td>\n",
       "      <td>51</td>\n",
       "    </tr>\n",
       "    <tr>\n",
       "      <th>9285</th>\n",
       "      <td>0.000</td>\n",
       "      <td>66</td>\n",
       "      <td>51</td>\n",
       "    </tr>\n",
       "    <tr>\n",
       "      <th>9642</th>\n",
       "      <td>0.000</td>\n",
       "      <td>66</td>\n",
       "      <td>51</td>\n",
       "    </tr>\n",
       "    <tr>\n",
       "      <th>9643</th>\n",
       "      <td>0.000</td>\n",
       "      <td>66</td>\n",
       "      <td>51</td>\n",
       "    </tr>\n",
       "    <tr>\n",
       "      <th>10128</th>\n",
       "      <td>0.000</td>\n",
       "      <td>66</td>\n",
       "      <td>51</td>\n",
       "    </tr>\n",
       "    <tr>\n",
       "      <th>10169</th>\n",
       "      <td>0.000</td>\n",
       "      <td>66</td>\n",
       "      <td>51</td>\n",
       "    </tr>\n",
       "    <tr>\n",
       "      <th>11458</th>\n",
       "      <td>0.020</td>\n",
       "      <td>66</td>\n",
       "      <td>51</td>\n",
       "    </tr>\n",
       "    <tr>\n",
       "      <th>11849</th>\n",
       "      <td>0.000</td>\n",
       "      <td>66</td>\n",
       "      <td>51</td>\n",
       "    </tr>\n",
       "    <tr>\n",
       "      <th>12204</th>\n",
       "      <td>0.000</td>\n",
       "      <td>66</td>\n",
       "      <td>51</td>\n",
       "    </tr>\n",
       "    <tr>\n",
       "      <th>12209</th>\n",
       "      <td>0.380</td>\n",
       "      <td>66</td>\n",
       "      <td>51</td>\n",
       "    </tr>\n",
       "    <tr>\n",
       "      <th>12218</th>\n",
       "      <td>0.000</td>\n",
       "      <td>66</td>\n",
       "      <td>51</td>\n",
       "    </tr>\n",
       "    <tr>\n",
       "      <th>13399</th>\n",
       "      <td>0.000</td>\n",
       "      <td>66</td>\n",
       "      <td>51</td>\n",
       "    </tr>\n",
       "    <tr>\n",
       "      <th>13766</th>\n",
       "      <td>0.160</td>\n",
       "      <td>66</td>\n",
       "      <td>51</td>\n",
       "    </tr>\n",
       "    <tr>\n",
       "      <th>14063</th>\n",
       "      <td>0.150</td>\n",
       "      <td>66</td>\n",
       "      <td>51</td>\n",
       "    </tr>\n",
       "    <tr>\n",
       "      <th>14375</th>\n",
       "      <td>0.220</td>\n",
       "      <td>66</td>\n",
       "      <td>51</td>\n",
       "    </tr>\n",
       "    <tr>\n",
       "      <th>14777</th>\n",
       "      <td>0.000</td>\n",
       "      <td>66</td>\n",
       "      <td>51</td>\n",
       "    </tr>\n",
       "    <tr>\n",
       "      <th>15111</th>\n",
       "      <td>0.000</td>\n",
       "      <td>66</td>\n",
       "      <td>51</td>\n",
       "    </tr>\n",
       "    <tr>\n",
       "      <th>16326</th>\n",
       "      <td>0.000</td>\n",
       "      <td>66</td>\n",
       "      <td>51</td>\n",
       "    </tr>\n",
       "    <tr>\n",
       "      <th>16595</th>\n",
       "      <td>0.030</td>\n",
       "      <td>66</td>\n",
       "      <td>51</td>\n",
       "    </tr>\n",
       "    <tr>\n",
       "      <th>16970</th>\n",
       "      <td>0.030</td>\n",
       "      <td>66</td>\n",
       "      <td>51</td>\n",
       "    </tr>\n",
       "    <tr>\n",
       "      <th>17336</th>\n",
       "      <td>0.000</td>\n",
       "      <td>66</td>\n",
       "      <td>51</td>\n",
       "    </tr>\n",
       "    <tr>\n",
       "      <th>17692</th>\n",
       "      <td>0.000</td>\n",
       "      <td>66</td>\n",
       "      <td>51</td>\n",
       "    </tr>\n",
       "    <tr>\n",
       "      <th>17694</th>\n",
       "      <td>0.000</td>\n",
       "      <td>66</td>\n",
       "      <td>51</td>\n",
       "    </tr>\n",
       "    <tr>\n",
       "      <th>18043</th>\n",
       "      <td>0.000</td>\n",
       "      <td>66</td>\n",
       "      <td>51</td>\n",
       "    </tr>\n",
       "    <tr>\n",
       "      <th>18402</th>\n",
       "      <td>0.000</td>\n",
       "      <td>66</td>\n",
       "      <td>51</td>\n",
       "    </tr>\n",
       "    <tr>\n",
       "      <th>18416</th>\n",
       "      <td>NaN</td>\n",
       "      <td>66</td>\n",
       "      <td>51</td>\n",
       "    </tr>\n",
       "    <tr>\n",
       "      <th>18803</th>\n",
       "      <td>0.000</td>\n",
       "      <td>66</td>\n",
       "      <td>51</td>\n",
       "    </tr>\n",
       "    <tr>\n",
       "      <th>19157</th>\n",
       "      <td>0.000</td>\n",
       "      <td>66</td>\n",
       "      <td>51</td>\n",
       "    </tr>\n",
       "    <tr>\n",
       "      <th>19555</th>\n",
       "      <td>0.650</td>\n",
       "      <td>66</td>\n",
       "      <td>51</td>\n",
       "    </tr>\n",
       "    <tr>\n",
       "      <th>19570</th>\n",
       "      <td>0.000</td>\n",
       "      <td>66</td>\n",
       "      <td>51</td>\n",
       "    </tr>\n",
       "    <tr>\n",
       "      <th>19620</th>\n",
       "      <td>0.000</td>\n",
       "      <td>66</td>\n",
       "      <td>51</td>\n",
       "    </tr>\n",
       "    <tr>\n",
       "      <th>19983</th>\n",
       "      <td>0.050</td>\n",
       "      <td>66</td>\n",
       "      <td>51</td>\n",
       "    </tr>\n",
       "    <tr>\n",
       "      <th>20229</th>\n",
       "      <td>0.010</td>\n",
       "      <td>66</td>\n",
       "      <td>51</td>\n",
       "    </tr>\n",
       "    <tr>\n",
       "      <th>20383</th>\n",
       "      <td>0.310</td>\n",
       "      <td>66</td>\n",
       "      <td>51</td>\n",
       "    </tr>\n",
       "    <tr>\n",
       "      <th>20971</th>\n",
       "      <td>0.030</td>\n",
       "      <td>66</td>\n",
       "      <td>51</td>\n",
       "    </tr>\n",
       "    <tr>\n",
       "      <th>21713</th>\n",
       "      <td>0.010</td>\n",
       "      <td>66</td>\n",
       "      <td>51</td>\n",
       "    </tr>\n",
       "    <tr>\n",
       "      <th>21813</th>\n",
       "      <td>0.010</td>\n",
       "      <td>66</td>\n",
       "      <td>51</td>\n",
       "    </tr>\n",
       "    <tr>\n",
       "      <th>22049</th>\n",
       "      <td>0.000</td>\n",
       "      <td>66</td>\n",
       "      <td>51</td>\n",
       "    </tr>\n",
       "    <tr>\n",
       "      <th>22185</th>\n",
       "      <td>0.000</td>\n",
       "      <td>66</td>\n",
       "      <td>51</td>\n",
       "    </tr>\n",
       "    <tr>\n",
       "      <th>23529</th>\n",
       "      <td>0.010</td>\n",
       "      <td>66</td>\n",
       "      <td>51</td>\n",
       "    </tr>\n",
       "  </tbody>\n",
       "</table>\n",
       "</div>"
      ],
      "text/plain": [
       "       PRCP  TMAX  TMIN\n",
       "168   0.010    66    51\n",
       "188   0.090    66    51\n",
       "633   0.000    66    51\n",
       "2010  0.000    66    51\n",
       "2364  0.000    66    51\n",
       "2762  0.130    66    51\n",
       "2779  0.000    66    51\n",
       "3062  0.000    66    51\n",
       "3106  0.000    66    51\n",
       "3832  0.000    66    51\n",
       "3923  0.000    66    51\n",
       "4623  0.020    66    51\n",
       "5346  0.000    66    51\n",
       "6735  0.120    66    51\n",
       "6852  0.000    66    51\n",
       "7242  0.030    66    51\n",
       "7451  0.000    66    51\n",
       "7974  0.000    66    51\n",
       "8178  0.000    66    51\n",
       "8292  0.000    66    51\n",
       "8308  0.000    66    51\n",
       "9285  0.000    66    51\n",
       "9642  0.000    66    51\n",
       "9643  0.000    66    51\n",
       "10128 0.000    66    51\n",
       "10169 0.000    66    51\n",
       "11458 0.020    66    51\n",
       "11849 0.000    66    51\n",
       "12204 0.000    66    51\n",
       "12209 0.380    66    51\n",
       "12218 0.000    66    51\n",
       "13399 0.000    66    51\n",
       "13766 0.160    66    51\n",
       "14063 0.150    66    51\n",
       "14375 0.220    66    51\n",
       "14777 0.000    66    51\n",
       "15111 0.000    66    51\n",
       "16326 0.000    66    51\n",
       "16595 0.030    66    51\n",
       "16970 0.030    66    51\n",
       "17336 0.000    66    51\n",
       "17692 0.000    66    51\n",
       "17694 0.000    66    51\n",
       "18043 0.000    66    51\n",
       "18402 0.000    66    51\n",
       "18416   NaN    66    51\n",
       "18803 0.000    66    51\n",
       "19157 0.000    66    51\n",
       "19555 0.650    66    51\n",
       "19570 0.000    66    51\n",
       "19620 0.000    66    51\n",
       "19983 0.050    66    51\n",
       "20229 0.010    66    51\n",
       "20383 0.310    66    51\n",
       "20971 0.030    66    51\n",
       "21713 0.010    66    51\n",
       "21813 0.010    66    51\n",
       "22049 0.000    66    51\n",
       "22185 0.000    66    51\n",
       "23529 0.010    66    51"
      ]
     },
     "execution_count": 107,
     "metadata": {},
     "output_type": "execute_result"
    }
   ],
   "source": [
    "df7.query('TMAX == 66 and TMIN ==51')"
   ]
  },
  {
   "cell_type": "code",
   "execution_count": 108,
   "id": "0623bbf6",
   "metadata": {},
   "outputs": [
    {
     "data": {
      "text/html": [
       "<div>\n",
       "<style scoped>\n",
       "    .dataframe tbody tr th:only-of-type {\n",
       "        vertical-align: middle;\n",
       "    }\n",
       "\n",
       "    .dataframe tbody tr th {\n",
       "        vertical-align: top;\n",
       "    }\n",
       "\n",
       "    .dataframe thead th {\n",
       "        text-align: right;\n",
       "    }\n",
       "</style>\n",
       "<table border=\"1\" class=\"dataframe\">\n",
       "  <thead>\n",
       "    <tr style=\"text-align: right;\">\n",
       "      <th></th>\n",
       "      <th>PRCP</th>\n",
       "      <th>TMAX</th>\n",
       "      <th>TMIN</th>\n",
       "    </tr>\n",
       "  </thead>\n",
       "  <tbody>\n",
       "    <tr>\n",
       "      <th>570</th>\n",
       "      <td>0.050</td>\n",
       "      <td>70</td>\n",
       "      <td>52</td>\n",
       "    </tr>\n",
       "    <tr>\n",
       "      <th>1699</th>\n",
       "      <td>0.000</td>\n",
       "      <td>70</td>\n",
       "      <td>52</td>\n",
       "    </tr>\n",
       "    <tr>\n",
       "      <th>2362</th>\n",
       "      <td>0.060</td>\n",
       "      <td>70</td>\n",
       "      <td>52</td>\n",
       "    </tr>\n",
       "    <tr>\n",
       "      <th>2441</th>\n",
       "      <td>0.140</td>\n",
       "      <td>70</td>\n",
       "      <td>52</td>\n",
       "    </tr>\n",
       "    <tr>\n",
       "      <th>2694</th>\n",
       "      <td>0.000</td>\n",
       "      <td>70</td>\n",
       "      <td>52</td>\n",
       "    </tr>\n",
       "    <tr>\n",
       "      <th>4190</th>\n",
       "      <td>0.000</td>\n",
       "      <td>70</td>\n",
       "      <td>52</td>\n",
       "    </tr>\n",
       "    <tr>\n",
       "      <th>4197</th>\n",
       "      <td>0.000</td>\n",
       "      <td>70</td>\n",
       "      <td>52</td>\n",
       "    </tr>\n",
       "    <tr>\n",
       "      <th>5304</th>\n",
       "      <td>0.000</td>\n",
       "      <td>70</td>\n",
       "      <td>52</td>\n",
       "    </tr>\n",
       "    <tr>\n",
       "      <th>5363</th>\n",
       "      <td>0.000</td>\n",
       "      <td>70</td>\n",
       "      <td>52</td>\n",
       "    </tr>\n",
       "    <tr>\n",
       "      <th>6110</th>\n",
       "      <td>0.000</td>\n",
       "      <td>70</td>\n",
       "      <td>52</td>\n",
       "    </tr>\n",
       "    <tr>\n",
       "      <th>6462</th>\n",
       "      <td>0.000</td>\n",
       "      <td>70</td>\n",
       "      <td>52</td>\n",
       "    </tr>\n",
       "    <tr>\n",
       "      <th>6813</th>\n",
       "      <td>0.290</td>\n",
       "      <td>70</td>\n",
       "      <td>52</td>\n",
       "    </tr>\n",
       "    <tr>\n",
       "      <th>7799</th>\n",
       "      <td>0.000</td>\n",
       "      <td>70</td>\n",
       "      <td>52</td>\n",
       "    </tr>\n",
       "    <tr>\n",
       "      <th>8244</th>\n",
       "      <td>0.000</td>\n",
       "      <td>70</td>\n",
       "      <td>52</td>\n",
       "    </tr>\n",
       "    <tr>\n",
       "      <th>8342</th>\n",
       "      <td>0.000</td>\n",
       "      <td>70</td>\n",
       "      <td>52</td>\n",
       "    </tr>\n",
       "    <tr>\n",
       "      <th>11576</th>\n",
       "      <td>0.000</td>\n",
       "      <td>70</td>\n",
       "      <td>52</td>\n",
       "    </tr>\n",
       "    <tr>\n",
       "      <th>13337</th>\n",
       "      <td>0.000</td>\n",
       "      <td>70</td>\n",
       "      <td>52</td>\n",
       "    </tr>\n",
       "    <tr>\n",
       "      <th>14368</th>\n",
       "      <td>0.000</td>\n",
       "      <td>70</td>\n",
       "      <td>52</td>\n",
       "    </tr>\n",
       "    <tr>\n",
       "      <th>15247</th>\n",
       "      <td>0.010</td>\n",
       "      <td>70</td>\n",
       "      <td>52</td>\n",
       "    </tr>\n",
       "    <tr>\n",
       "      <th>15864</th>\n",
       "      <td>0.000</td>\n",
       "      <td>70</td>\n",
       "      <td>52</td>\n",
       "    </tr>\n",
       "    <tr>\n",
       "      <th>16629</th>\n",
       "      <td>0.000</td>\n",
       "      <td>70</td>\n",
       "      <td>52</td>\n",
       "    </tr>\n",
       "    <tr>\n",
       "      <th>17688</th>\n",
       "      <td>0.000</td>\n",
       "      <td>70</td>\n",
       "      <td>52</td>\n",
       "    </tr>\n",
       "    <tr>\n",
       "      <th>17762</th>\n",
       "      <td>0.000</td>\n",
       "      <td>70</td>\n",
       "      <td>52</td>\n",
       "    </tr>\n",
       "    <tr>\n",
       "      <th>18795</th>\n",
       "      <td>0.000</td>\n",
       "      <td>70</td>\n",
       "      <td>52</td>\n",
       "    </tr>\n",
       "    <tr>\n",
       "      <th>19502</th>\n",
       "      <td>0.000</td>\n",
       "      <td>70</td>\n",
       "      <td>52</td>\n",
       "    </tr>\n",
       "    <tr>\n",
       "      <th>21067</th>\n",
       "      <td>NaN</td>\n",
       "      <td>70</td>\n",
       "      <td>52</td>\n",
       "    </tr>\n",
       "    <tr>\n",
       "      <th>21723</th>\n",
       "      <td>0.000</td>\n",
       "      <td>70</td>\n",
       "      <td>52</td>\n",
       "    </tr>\n",
       "    <tr>\n",
       "      <th>22809</th>\n",
       "      <td>0.000</td>\n",
       "      <td>70</td>\n",
       "      <td>52</td>\n",
       "    </tr>\n",
       "    <tr>\n",
       "      <th>24339</th>\n",
       "      <td>0.000</td>\n",
       "      <td>70</td>\n",
       "      <td>52</td>\n",
       "    </tr>\n",
       "    <tr>\n",
       "      <th>25364</th>\n",
       "      <td>0.000</td>\n",
       "      <td>70</td>\n",
       "      <td>52</td>\n",
       "    </tr>\n",
       "  </tbody>\n",
       "</table>\n",
       "</div>"
      ],
      "text/plain": [
       "       PRCP  TMAX  TMIN\n",
       "570   0.050    70    52\n",
       "1699  0.000    70    52\n",
       "2362  0.060    70    52\n",
       "2441  0.140    70    52\n",
       "2694  0.000    70    52\n",
       "4190  0.000    70    52\n",
       "4197  0.000    70    52\n",
       "5304  0.000    70    52\n",
       "5363  0.000    70    52\n",
       "6110  0.000    70    52\n",
       "6462  0.000    70    52\n",
       "6813  0.290    70    52\n",
       "7799  0.000    70    52\n",
       "8244  0.000    70    52\n",
       "8342  0.000    70    52\n",
       "11576 0.000    70    52\n",
       "13337 0.000    70    52\n",
       "14368 0.000    70    52\n",
       "15247 0.010    70    52\n",
       "15864 0.000    70    52\n",
       "16629 0.000    70    52\n",
       "17688 0.000    70    52\n",
       "17762 0.000    70    52\n",
       "18795 0.000    70    52\n",
       "19502 0.000    70    52\n",
       "21067   NaN    70    52\n",
       "21723 0.000    70    52\n",
       "22809 0.000    70    52\n",
       "24339 0.000    70    52\n",
       "25364 0.000    70    52"
      ]
     },
     "execution_count": 108,
     "metadata": {},
     "output_type": "execute_result"
    }
   ],
   "source": [
    "df7.query('TMAX == 70 and TMIN ==52')"
   ]
  },
  {
   "cell_type": "code",
   "execution_count": 109,
   "id": "0651fb99",
   "metadata": {},
   "outputs": [],
   "source": [
    "df['RAIN'].fillna(method='bfill', inplace=True)\n",
    "df7['PRCP'].fillna(method='bfill', inplace=True)"
   ]
  },
  {
   "cell_type": "markdown",
   "id": "monthly-meter",
   "metadata": {},
   "source": [
    "### Repeat the following steps for each column within outliers\n",
    "\n",
    "* Visualize the outliers\n",
    "* Detect if your data set contains any outliers\n",
    "* Identify lower & higher limit of outliers\n",
    "* Drop all outliers\n",
    "* Visualize the column after processing\n"
   ]
  },
  {
   "cell_type": "code",
   "execution_count": 110,
   "id": "enhanced-forge",
   "metadata": {},
   "outputs": [
    {
     "data": {
      "text/plain": [
       "Index(['DATE', 'PRCP', 'TMAX', 'TMIN', 'RAIN'], dtype='object')"
      ]
     },
     "execution_count": 110,
     "metadata": {},
     "output_type": "execute_result"
    }
   ],
   "source": [
    "df.columns"
   ]
  },
  {
   "cell_type": "code",
   "execution_count": 111,
   "id": "03bb403d",
   "metadata": {},
   "outputs": [
    {
     "name": "stdout",
     "output_type": "stream",
     "text": [
      "<class 'pandas.core.frame.DataFrame'>\n",
      "RangeIndex: 25551 entries, 0 to 25550\n",
      "Data columns (total 5 columns):\n",
      " #   Column  Non-Null Count  Dtype  \n",
      "---  ------  --------------  -----  \n",
      " 0   DATE    25551 non-null  object \n",
      " 1   PRCP    25548 non-null  float64\n",
      " 2   TMAX    25551 non-null  int64  \n",
      " 3   TMIN    25551 non-null  int64  \n",
      " 4   RAIN    25551 non-null  bool   \n",
      "dtypes: bool(1), float64(1), int64(2), object(1)\n",
      "memory usage: 823.5+ KB\n"
     ]
    }
   ],
   "source": [
    "df.info()"
   ]
  },
  {
   "cell_type": "code",
   "execution_count": 112,
   "id": "a13665a9",
   "metadata": {
    "scrolled": false
   },
   "outputs": [
    {
     "data": {
      "text/html": [
       "<div>\n",
       "<style scoped>\n",
       "    .dataframe tbody tr th:only-of-type {\n",
       "        vertical-align: middle;\n",
       "    }\n",
       "\n",
       "    .dataframe tbody tr th {\n",
       "        vertical-align: top;\n",
       "    }\n",
       "\n",
       "    .dataframe thead th {\n",
       "        text-align: right;\n",
       "    }\n",
       "</style>\n",
       "<table border=\"1\" class=\"dataframe\">\n",
       "  <thead>\n",
       "    <tr style=\"text-align: right;\">\n",
       "      <th></th>\n",
       "      <th>PRCP</th>\n",
       "      <th>TMAX</th>\n",
       "      <th>TMIN</th>\n",
       "    </tr>\n",
       "  </thead>\n",
       "  <tbody>\n",
       "    <tr>\n",
       "      <th>count</th>\n",
       "      <td>25548.000</td>\n",
       "      <td>25551.000</td>\n",
       "      <td>25551.000</td>\n",
       "    </tr>\n",
       "    <tr>\n",
       "      <th>mean</th>\n",
       "      <td>0.106</td>\n",
       "      <td>59.544</td>\n",
       "      <td>44.514</td>\n",
       "    </tr>\n",
       "    <tr>\n",
       "      <th>std</th>\n",
       "      <td>0.239</td>\n",
       "      <td>12.773</td>\n",
       "      <td>8.893</td>\n",
       "    </tr>\n",
       "    <tr>\n",
       "      <th>min</th>\n",
       "      <td>0.000</td>\n",
       "      <td>4.000</td>\n",
       "      <td>0.000</td>\n",
       "    </tr>\n",
       "    <tr>\n",
       "      <th>25%</th>\n",
       "      <td>0.000</td>\n",
       "      <td>50.000</td>\n",
       "      <td>38.000</td>\n",
       "    </tr>\n",
       "    <tr>\n",
       "      <th>50%</th>\n",
       "      <td>0.000</td>\n",
       "      <td>58.000</td>\n",
       "      <td>45.000</td>\n",
       "    </tr>\n",
       "    <tr>\n",
       "      <th>75%</th>\n",
       "      <td>0.100</td>\n",
       "      <td>69.000</td>\n",
       "      <td>52.000</td>\n",
       "    </tr>\n",
       "    <tr>\n",
       "      <th>max</th>\n",
       "      <td>5.020</td>\n",
       "      <td>103.000</td>\n",
       "      <td>71.000</td>\n",
       "    </tr>\n",
       "  </tbody>\n",
       "</table>\n",
       "</div>"
      ],
      "text/plain": [
       "           PRCP      TMAX      TMIN\n",
       "count 25548.000 25551.000 25551.000\n",
       "mean      0.106    59.544    44.514\n",
       "std       0.239    12.773     8.893\n",
       "min       0.000     4.000     0.000\n",
       "25%       0.000    50.000    38.000\n",
       "50%       0.000    58.000    45.000\n",
       "75%       0.100    69.000    52.000\n",
       "max       5.020   103.000    71.000"
      ]
     },
     "execution_count": 112,
     "metadata": {},
     "output_type": "execute_result"
    }
   ],
   "source": [
    "df.describe()"
   ]
  },
  {
   "cell_type": "code",
   "execution_count": 113,
   "id": "1aae7e36",
   "metadata": {},
   "outputs": [
    {
     "name": "stdout",
     "output_type": "stream",
     "text": [
      "[ 0.10620915 59.54420571 44.51422645]\n",
      "[5.71284184e-02 1.63142727e+02 7.90794325e+01]\n"
     ]
    }
   ],
   "source": [
    "standarizes_data = scaler.fit_transform(df7)\n",
    "print(scaler.mean_)\n",
    "print(scaler.var_)"
   ]
  },
  {
   "cell_type": "markdown",
   "id": "a42d9f4b",
   "metadata": {},
   "source": [
    "## Visualize outlier"
   ]
  },
  {
   "cell_type": "code",
   "execution_count": 114,
   "id": "75eaa317",
   "metadata": {
    "scrolled": false
   },
   "outputs": [
    {
     "data": {
      "image/png": "[encoded data removed]",
      "text/plain": [
       "<Figure size 640x480 with 1 Axes>"
      ]
     },
     "metadata": {},
     "output_type": "display_data"
    }
   ],
   "source": [
    "sns.boxplot(data=df7);"
   ]
  },
  {
   "cell_type": "code",
   "execution_count": 115,
   "id": "ea43a8ec",
   "metadata": {
    "scrolled": false
   },
   "outputs": [
    {
     "data": {
      "image/png": "[encoded data removed]",
      "text/plain": [
       "<Figure size 640x480 with 1 Axes>"
      ]
     },
     "metadata": {},
     "output_type": "display_data"
    }
   ],
   "source": [
    "sns.boxplot(data = df['TMIN']).set(title='TMIN Boxplot');\n",
    "# we can notice that out lires is below 18"
   ]
  },
  {
   "cell_type": "code",
   "execution_count": 116,
   "id": "daily-crime",
   "metadata": {},
   "outputs": [
    {
     "data": {
      "image/png": "[encoded data removed]",
      "text/plain": [
       "<Figure size 640x480 with 1 Axes>"
      ]
     },
     "metadata": {},
     "output_type": "display_data"
    }
   ],
   "source": [
    "sns.boxplot(data = df['TMAX']).set(title='TMAX Boxplot');\n",
    "# we can notice that out lires is more than around 98 and below 20"
   ]
  },
  {
   "cell_type": "code",
   "execution_count": 117,
   "id": "professional-error",
   "metadata": {
    "scrolled": false
   },
   "outputs": [
    {
     "data": {
      "image/png": "[encoded data removed]",
      "text/plain": [
       "<Figure size 640x480 with 1 Axes>"
      ]
     },
     "metadata": {},
     "output_type": "display_data"
    }
   ],
   "source": [
    "sns.boxplot(data = df7['PRCP']).set(title='PRCP Boxplot');\n"
   ]
  },
  {
   "cell_type": "code",
   "execution_count": 118,
   "id": "22356bcc",
   "metadata": {},
   "outputs": [
    {
     "name": "stdout",
     "output_type": "stream",
     "text": [
      "lower bound outliers  -0.15000000000000002\n",
      "higher bound outliers 0.25\n"
     ]
    },
    {
     "name": "stderr",
     "output_type": "stream",
     "text": [
      "C:\\Users\\20his\\AppData\\Local\\Temp\\ipykernel_37104\\1918390807.py:1: DeprecationWarning: the `interpolation=` argument to percentile was renamed to `method=`, which has additional options.\n",
      "Users of the modes 'nearest', 'lower', 'higher', or 'midpoint' are encouraged to review the method they used. (Deprecated NumPy 1.22)\n",
      "  Q1 = np.percentile(df7['PRCP'], 25, interpolation = 'midpoint');\n",
      "C:\\Users\\20his\\AppData\\Local\\Temp\\ipykernel_37104\\1918390807.py:2: DeprecationWarning: the `interpolation=` argument to percentile was renamed to `method=`, which has additional options.\n",
      "Users of the modes 'nearest', 'lower', 'higher', or 'midpoint' are encouraged to review the method they used. (Deprecated NumPy 1.22)\n",
      "  Q3 = np.percentile(df7['PRCP'], 75, interpolation = 'midpoint');\n"
     ]
    }
   ],
   "source": [
    "Q1 = np.percentile(df7['PRCP'], 25, interpolation = 'midpoint');\n",
    "Q3 = np.percentile(df7['PRCP'], 75, interpolation = 'midpoint');\n",
    "IQR = Q3 - Q1\n",
    "               \n",
    "print('lower bound outliers ', Q1 - 1.5*(IQR));\n",
    "print('higher bound outliers', Q3 + 1.5*(IQR));"
   ]
  },
  {
   "cell_type": "code",
   "execution_count": 119,
   "id": "c83d6f50",
   "metadata": {},
   "outputs": [],
   "source": [
    "df7 = df7.drop(df7[(df7['PRCP'] >0.25) | (df7['PRCP'] < -0.15000000000000002)].index)"
   ]
  },
  {
   "cell_type": "code",
   "execution_count": 120,
   "id": "e05aae60",
   "metadata": {},
   "outputs": [
    {
     "data": {
      "image/png": "[encoded data removed]",
      "text/plain": [
       "<Figure size 640x480 with 1 Axes>"
      ]
     },
     "metadata": {},
     "output_type": "display_data"
    }
   ],
   "source": [
    "sns.boxplot(data=df7).set(title='PRCP Boxplot');"
   ]
  },
  {
   "cell_type": "markdown",
   "id": "73ac089e",
   "metadata": {},
   "source": [
    "#### Using Z-Score to Find Outliers\n"
   ]
  },
  {
   "cell_type": "code",
   "execution_count": 121,
   "id": "61f9cd77",
   "metadata": {},
   "outputs": [],
   "source": [
    "df0=df"
   ]
  },
  {
   "cell_type": "code",
   "execution_count": 122,
   "id": "ada620d3",
   "metadata": {},
   "outputs": [],
   "source": [
    "data = df0['TMAX']\n",
    "z_scores = np.abs(stats.zscore(data))\n",
    "# 1.96 because this 95% of the data\n",
    "threshold = 1.96\n",
    "outliers = data[z_scores > threshold]\n"
   ]
  },
  {
   "cell_type": "code",
   "execution_count": 123,
   "id": "a291b75c",
   "metadata": {},
   "outputs": [],
   "source": [
    "df0 = df0[~df0['TMAX'].isin(outliers)]"
   ]
  },
  {
   "cell_type": "code",
   "execution_count": 124,
   "id": "94c212d5",
   "metadata": {
    "scrolled": true
   },
   "outputs": [],
   "source": [
    "data = df0['TMIN']\n",
    "z_scores = np.abs(stats.zscore(data))\n",
    "# 1.96 because this 95% of the data\n",
    "threshold = 1.96\n",
    "outliers = data[z_scores > threshold]\n"
   ]
  },
  {
   "cell_type": "code",
   "execution_count": 125,
   "id": "a9bab8e6",
   "metadata": {},
   "outputs": [],
   "source": [
    "df0 = df0[~df0['TMIN'].isin(outliers)]"
   ]
  },
  {
   "cell_type": "code",
   "execution_count": 126,
   "id": "b51b1b76",
   "metadata": {},
   "outputs": [
    {
     "data": {
      "image/png": "[encoded data removed]",
      "text/plain": [
       "<Figure size 640x480 with 1 Axes>"
      ]
     },
     "metadata": {},
     "output_type": "display_data"
    }
   ],
   "source": [
    "sns.boxplot(data=df0).set(title='TMIN & TMAX Boxplot');"
   ]
  },
  {
   "cell_type": "markdown",
   "id": "f6f3c853",
   "metadata": {},
   "source": [
    "#### Using STD"
   ]
  },
  {
   "cell_type": "code",
   "execution_count": 127,
   "id": "f90b3691",
   "metadata": {},
   "outputs": [],
   "source": [
    "df1=df"
   ]
  },
  {
   "cell_type": "code",
   "execution_count": 128,
   "id": "ab6f58a6",
   "metadata": {},
   "outputs": [],
   "source": [
    "data = df1['TMAX']\n",
    "mean = np.mean(data)\n",
    "std_dev = np.std(data)\n",
    "#More than 3 standard deviations from the mean an outlier\n",
    "threshold = 3 \n",
    "outliers = data[np.abs(data - mean) > threshold * std_dev]\n"
   ]
  },
  {
   "cell_type": "code",
   "execution_count": 129,
   "id": "b885e924",
   "metadata": {},
   "outputs": [],
   "source": [
    "df1 = df1[~df1['TMAX'].isin(outliers)]"
   ]
  },
  {
   "cell_type": "code",
   "execution_count": 130,
   "id": "1b1c11b6",
   "metadata": {},
   "outputs": [],
   "source": [
    "data = df1['TMIN']\n",
    "mean = np.mean(data)\n",
    "std_dev = np.std(data)\n",
    "#More than 3 standard deviations from the mean an outlier\n",
    "threshold = 3 \n",
    "outliers = data[np.abs(data - mean) > threshold * std_dev]\n"
   ]
  },
  {
   "cell_type": "code",
   "execution_count": 131,
   "id": "c07080c1",
   "metadata": {},
   "outputs": [],
   "source": [
    "df1 = df1[~df1['TMIN'].isin(outliers)]"
   ]
  },
  {
   "cell_type": "code",
   "execution_count": 132,
   "id": "9c114d2e",
   "metadata": {},
   "outputs": [
    {
     "data": {
      "image/png": "[encoded data removed]",
      "text/plain": [
       "<Figure size 640x480 with 1 Axes>"
      ]
     },
     "metadata": {},
     "output_type": "display_data"
    }
   ],
   "source": [
    "sns.boxplot(data=df1).set(title='TMIN & TMAX Boxplot');"
   ]
  },
  {
   "cell_type": "markdown",
   "id": "25f384b7",
   "metadata": {},
   "source": [
    "#### Using IQR  1 ssame as the lectures method but in diffrent code \n"
   ]
  },
  {
   "cell_type": "code",
   "execution_count": 133,
   "id": "b129613f",
   "metadata": {},
   "outputs": [],
   "source": [
    "df2=df"
   ]
  },
  {
   "cell_type": "code",
   "execution_count": 134,
   "id": "5b49dd35",
   "metadata": {},
   "outputs": [
    {
     "name": "stdout",
     "output_type": "stream",
     "text": [
      "358      16\n",
      "374      13\n",
      "375      12\n",
      "388      16\n",
      "393      16\n",
      "         ..\n",
      "18618    16\n",
      "22269    14\n",
      "22624    16\n",
      "22972    16\n",
      "22973    14\n",
      "Name: TMIN, Length: 92, dtype: int64\n"
     ]
    }
   ],
   "source": [
    "data = df2['TMIN']\n",
    "# assign your quartiles, limits and iq3\n",
    "q1, q3 = np.percentile(data, [25, 75])\n",
    "iqr = q3 - q1\n",
    "lower_bound = q1 - 1.5*iqr\n",
    "upper_bound = q3 + 1.5*iqr\n",
    "#create conditions to isolate the outliers\n",
    "outliers = data[(data < lower_bound) | (data > upper_bound)]\n",
    "print(outliers)"
   ]
  },
  {
   "cell_type": "code",
   "execution_count": 135,
   "id": "4c42dba1",
   "metadata": {},
   "outputs": [],
   "source": [
    "df2 = df2[~df2['TMIN'].isin(outliers)]"
   ]
  },
  {
   "cell_type": "code",
   "execution_count": 136,
   "id": "e7401ea9",
   "metadata": {},
   "outputs": [],
   "source": [
    "data = df2['TMAX']\n",
    "# assign your quartiles, limits and iq3\n",
    "q1, q3 = np.percentile(data, [25, 75])\n",
    "iqr = q3 - q1\n",
    "lower_bound = q1 - 1.5*iqr\n",
    "upper_bound = q3 + 1.5*iqr\n",
    "#create conditions to isolate the outliers\n",
    "outliers = data[(data < lower_bound) | (data > upper_bound)]\n"
   ]
  },
  {
   "cell_type": "code",
   "execution_count": 137,
   "id": "9bd3a1b9",
   "metadata": {},
   "outputs": [],
   "source": [
    "df2 = df2[~df2['TMAX'].isin(outliers)]"
   ]
  },
  {
   "cell_type": "code",
   "execution_count": 138,
   "id": "920c4ec8",
   "metadata": {},
   "outputs": [
    {
     "data": {
      "image/png": "[encoded data removed]",
      "text/plain": [
       "<Figure size 640x480 with 1 Axes>"
      ]
     },
     "metadata": {},
     "output_type": "display_data"
    }
   ],
   "source": [
    "sns.boxplot(data=df2).set(title='TMIN & TMAX Boxplot');"
   ]
  },
  {
   "cell_type": "markdown",
   "id": "24c2ed05",
   "metadata": {},
   "source": [
    "#### Using IQR 2\n"
   ]
  },
  {
   "cell_type": "code",
   "execution_count": 139,
   "id": "ec9e81aa",
   "metadata": {},
   "outputs": [],
   "source": [
    "df3=df"
   ]
  },
  {
   "cell_type": "code",
   "execution_count": 140,
   "id": "f229b178",
   "metadata": {},
   "outputs": [
    {
     "name": "stdout",
     "output_type": "stream",
     "text": [
      "743       19\n",
      "744       16\n",
      "1419       4\n",
      "3861      97\n",
      "4603      98\n",
      "4604      99\n",
      "4941      97\n",
      "7167      98\n",
      "7668      17\n",
      "7669      18\n",
      "11519     98\n",
      "12274     99\n",
      "12275     98\n",
      "14855     98\n",
      "15008     18\n",
      "15909     99\n",
      "17002    100\n",
      "18471     97\n",
      "21386     97\n",
      "21741     98\n",
      "22489     97\n",
      "22490    103\n",
      "Name: TMAX, dtype: int64\n"
     ]
    }
   ],
   "source": [
    "data = df3['TMAX']\n",
    "# change K to 2 or 1.5. This can be what you need it to be. \n",
    "k = 2.0\n",
    "q1, q3 = np.percentile(data, [25, 75])\n",
    "iqr = q3 - q1\n",
    "lower_bound = np.median(data) - k*iqr\n",
    "upper_bound = np.median(data) + k*iqr\n",
    "outliers = data[(data < lower_bound) | (data > upper_bound)]\n",
    "print(outliers)"
   ]
  },
  {
   "cell_type": "code",
   "execution_count": 141,
   "id": "091eb761",
   "metadata": {},
   "outputs": [],
   "source": [
    "df3 = df3[~df3['TMAX'].isin(outliers)]\n"
   ]
  },
  {
   "cell_type": "code",
   "execution_count": 142,
   "id": "f0b4f63c",
   "metadata": {},
   "outputs": [],
   "source": [
    "data = df3['TMIN']\n",
    "# change K to 2 or 1.5. This can be what you need it to be. \n",
    "k = 2.0\n",
    "q1, q3 = np.percentile(data, [25, 75])\n",
    "iqr = q3 - q1\n",
    "lower_bound = np.median(data) - k*iqr\n",
    "upper_bound = np.median(data) + k*iqr\n",
    "outliers = data[(data < lower_bound) | (data > upper_bound)]\n"
   ]
  },
  {
   "cell_type": "code",
   "execution_count": 143,
   "id": "8a26b743",
   "metadata": {},
   "outputs": [],
   "source": [
    "df3 = df3[~df3['TMIN'].isin(outliers)]"
   ]
  },
  {
   "cell_type": "code",
   "execution_count": 144,
   "id": "fe5fb9a1",
   "metadata": {},
   "outputs": [
    {
     "data": {
      "image/png": "[encoded data removed]",
      "text/plain": [
       "<Figure size 640x480 with 1 Axes>"
      ]
     },
     "metadata": {},
     "output_type": "display_data"
    }
   ],
   "source": [
    "sns.boxplot(data=df3).set(title='TMIN & TMAX Boxplot');"
   ]
  },
  {
   "cell_type": "markdown",
   "id": "c9ea6729",
   "metadata": {},
   "source": [
    "#### By using tukey method"
   ]
  },
  {
   "cell_type": "code",
   "execution_count": 145,
   "id": "b7379d00",
   "metadata": {},
   "outputs": [],
   "source": [
    "df4=df"
   ]
  },
  {
   "cell_type": "code",
   "execution_count": 146,
   "id": "b15ce110",
   "metadata": {
    "scrolled": false
   },
   "outputs": [],
   "source": [
    "data = df4['TMAX']\n",
    "# change K to 2 or 1.5 By testing this was the optimal value\n",
    "k = 2.0\n",
    "q1, q3 = np.percentile(data, [25, 75])\n",
    "iqr = q3 - q1\n",
    "lower_bound = np.median(data) - k*iqr\n",
    "upper_bound = np.median(data) + k*iqr\n",
    "outliers = data[(data < lower_bound) | (data > upper_bound)]\n"
   ]
  },
  {
   "cell_type": "code",
   "execution_count": 147,
   "id": "5cf5a525",
   "metadata": {},
   "outputs": [],
   "source": [
    "df4 = df4[~df4['TMAX'].isin(outliers)]\n"
   ]
  },
  {
   "cell_type": "code",
   "execution_count": 148,
   "id": "2c755193",
   "metadata": {},
   "outputs": [],
   "source": [
    "data = df4['TMIN']\n",
    "# change K to 2 or 1.5 By testing this was the optimal value\n",
    "k = 2.0\n",
    "q1, q3 = np.percentile(data, [25, 75])\n",
    "iqr = q3 - q1\n",
    "lower_bound = np.median(data) - k*iqr\n",
    "upper_bound = np.median(data) + k*iqr\n",
    "outliers = data[(data < lower_bound) | (data > upper_bound)]\n"
   ]
  },
  {
   "cell_type": "code",
   "execution_count": 149,
   "id": "3ab8c694",
   "metadata": {},
   "outputs": [
    {
     "data": {
      "image/png": "[encoded data removed]",
      "text/plain": [
       "<Figure size 640x480 with 1 Axes>"
      ]
     },
     "metadata": {},
     "output_type": "display_data"
    }
   ],
   "source": [
    "df4 = df4[~df4['TMIN'].isin(outliers)]\n",
    "sns.boxplot(data=df4).set(title='TMIN & TMAX Boxplot');"
   ]
  },
  {
   "cell_type": "markdown",
   "id": "3462fc7d",
   "metadata": {},
   "source": [
    "#### By using Isolation method "
   ]
  },
  {
   "cell_type": "code",
   "execution_count": 150,
   "id": "b73b96b1",
   "metadata": {},
   "outputs": [],
   "source": [
    "df5=df"
   ]
  },
  {
   "cell_type": "code",
   "execution_count": 151,
   "id": "2c9b7523",
   "metadata": {
    "scrolled": false
   },
   "outputs": [],
   "source": [
    "#bring in the Isolation forest library\n",
    "from sklearn.ensemble import IsolationForest\n",
    "\n",
    "#create your data\n",
    "data = np.array(df5['TMAX']).reshape(-1, 1)\n",
    "#istantiate the algorithm and se estimators and contamination and fit the data\n",
    "isolation_forest = IsolationForest(n_estimators=100, contamination=0.1)\n",
    "isolation_forest.fit(data)\n",
    "# Isolate the negative 1 which would be the algorithms\n",
    "outliers = data[isolation_forest.predict(data) == -1]\n"
   ]
  },
  {
   "cell_type": "code",
   "execution_count": 152,
   "id": "47b82191",
   "metadata": {
    "scrolled": false
   },
   "outputs": [],
   "source": [
    "outliers=list(outliers)"
   ]
  },
  {
   "cell_type": "code",
   "execution_count": 153,
   "id": "79df8b0a",
   "metadata": {},
   "outputs": [],
   "source": [
    "df5 = df5[~df5['TMAX'].isin(outliers)]\n"
   ]
  },
  {
   "cell_type": "code",
   "execution_count": 154,
   "id": "c8f4c79f",
   "metadata": {},
   "outputs": [],
   "source": [
    "\n",
    "#create your data\n",
    "data = np.array(df['TMIN']).reshape(-1, 1)\n",
    "#istantiate the algorithm and se estimators and contamination and fit the data\n",
    "isolation_forest = IsolationForest(n_estimators=100, contamination=0.1)\n",
    "isolation_forest.fit(data)\n",
    "# Isolate the negative 1 which would be the algorithms\n",
    "outliers = data[isolation_forest.predict(data) == -1]\n",
    "outliers=list(outliers)\n"
   ]
  },
  {
   "cell_type": "code",
   "execution_count": 155,
   "id": "f3b84705",
   "metadata": {},
   "outputs": [
    {
     "data": {
      "image/png": "[encoded data removed]",
      "text/plain": [
       "<Figure size 640x480 with 1 Axes>"
      ]
     },
     "metadata": {},
     "output_type": "display_data"
    }
   ],
   "source": [
    "df5 = df5[~df5['TMIN'].isin(outliers)]\n",
    "sns.boxplot(data=df5).set(title='TMIN & TMAX Boxplot');"
   ]
  },
  {
   "cell_type": "markdown",
   "id": "d3d2e3f7",
   "metadata": {},
   "source": [
    "[Resorce for the above techniuqes](https://absentdata.com/python/how-to-find-outliers-in-python/)"
   ]
  },
  {
   "cell_type": "markdown",
   "id": "b4b8cba5",
   "metadata": {},
   "source": [
    "#### Using the lectures method"
   ]
  },
  {
   "cell_type": "code",
   "execution_count": 156,
   "id": "28296ac4",
   "metadata": {},
   "outputs": [],
   "source": [
    "df6=df"
   ]
  },
  {
   "cell_type": "code",
   "execution_count": 157,
   "id": "af4e83a7",
   "metadata": {
    "scrolled": true
   },
   "outputs": [
    {
     "name": "stdout",
     "output_type": "stream",
     "text": [
      "lower bound outliers  17.0\n",
      "higher bound outliers 73.0\n"
     ]
    },
    {
     "name": "stderr",
     "output_type": "stream",
     "text": [
      "C:\\Users\\20his\\AppData\\Local\\Temp\\ipykernel_37104\\1134415666.py:1: DeprecationWarning: the `interpolation=` argument to percentile was renamed to `method=`, which has additional options.\n",
      "Users of the modes 'nearest', 'lower', 'higher', or 'midpoint' are encouraged to review the method they used. (Deprecated NumPy 1.22)\n",
      "  Q1 = np.percentile(df6['TMIN'], 25, interpolation = 'midpoint');\n",
      "C:\\Users\\20his\\AppData\\Local\\Temp\\ipykernel_37104\\1134415666.py:2: DeprecationWarning: the `interpolation=` argument to percentile was renamed to `method=`, which has additional options.\n",
      "Users of the modes 'nearest', 'lower', 'higher', or 'midpoint' are encouraged to review the method they used. (Deprecated NumPy 1.22)\n",
      "  Q3 = np.percentile(df6['TMIN'], 75, interpolation = 'midpoint');\n"
     ]
    }
   ],
   "source": [
    "Q1 = np.percentile(df6['TMIN'], 25, interpolation = 'midpoint');\n",
    "Q3 = np.percentile(df6['TMIN'], 75, interpolation = 'midpoint');\n",
    "IQR = Q3 - Q1\n",
    "               \n",
    "print('lower bound outliers ', Q1 - 1.5*(IQR));\n",
    "print('higher bound outliers', Q3 + 1.5*(IQR));"
   ]
  },
  {
   "cell_type": "code",
   "execution_count": 158,
   "id": "191b11ad",
   "metadata": {
    "scrolled": true
   },
   "outputs": [
    {
     "name": "stdout",
     "output_type": "stream",
     "text": [
      "lower bound outliers  21.5\n",
      "higher bound outliers 97.5\n"
     ]
    },
    {
     "name": "stderr",
     "output_type": "stream",
     "text": [
      "C:\\Users\\20his\\AppData\\Local\\Temp\\ipykernel_37104\\1555819121.py:1: DeprecationWarning: the `interpolation=` argument to percentile was renamed to `method=`, which has additional options.\n",
      "Users of the modes 'nearest', 'lower', 'higher', or 'midpoint' are encouraged to review the method they used. (Deprecated NumPy 1.22)\n",
      "  Q1 = np.percentile(df6['TMAX'], 25, interpolation = 'midpoint');\n",
      "C:\\Users\\20his\\AppData\\Local\\Temp\\ipykernel_37104\\1555819121.py:2: DeprecationWarning: the `interpolation=` argument to percentile was renamed to `method=`, which has additional options.\n",
      "Users of the modes 'nearest', 'lower', 'higher', or 'midpoint' are encouraged to review the method they used. (Deprecated NumPy 1.22)\n",
      "  Q3 = np.percentile(df6['TMAX'], 75, interpolation = 'midpoint');\n"
     ]
    }
   ],
   "source": [
    "Q1 = np.percentile(df6['TMAX'], 25, interpolation = 'midpoint');\n",
    "Q3 = np.percentile(df6['TMAX'], 75, interpolation = 'midpoint');\n",
    "IQR = Q3 - Q1\n",
    "               \n",
    "print('lower bound outliers ', Q1 - 1.5*(IQR));\n",
    "print('higher bound outliers', Q3 + 1.5*(IQR));"
   ]
  },
  {
   "cell_type": "code",
   "execution_count": 159,
   "id": "f7159382",
   "metadata": {},
   "outputs": [],
   "source": [
    "df6 = df6.drop(df6[(df6['TMIN'] >73.0) | (df['TMIN'] < 17.0)].index)\n"
   ]
  },
  {
   "cell_type": "code",
   "execution_count": 160,
   "id": "6dd8fb03",
   "metadata": {},
   "outputs": [
    {
     "name": "stderr",
     "output_type": "stream",
     "text": [
      "C:\\Users\\20his\\AppData\\Local\\Temp\\ipykernel_37104\\2706084559.py:1: UserWarning: Boolean Series key will be reindexed to match DataFrame index.\n",
      "  df6 = df6.drop(df6[(df6['TMAX'] >97.5) | (df['TMAX'] < 21.5)].index)\n"
     ]
    }
   ],
   "source": [
    "df6 = df6.drop(df6[(df6['TMAX'] >97.5) | (df['TMAX'] < 21.5)].index)"
   ]
  },
  {
   "cell_type": "code",
   "execution_count": 161,
   "id": "cd97ddf1",
   "metadata": {},
   "outputs": [
    {
     "data": {
      "image/png": "[encoded data removed]",
      "text/plain": [
       "<Figure size 640x480 with 1 Axes>"
      ]
     },
     "metadata": {},
     "output_type": "display_data"
    }
   ],
   "source": [
    "sns.boxplot(data=df6).set(title='TMIN & TMAX Boxplot');"
   ]
  },
  {
   "cell_type": "markdown",
   "id": "764a3246",
   "metadata": {},
   "source": [
    "### In conclusion we can see a smimilar performance for all the methods except the isolation metho which failed partialy to capture all the outlires"
   ]
  },
  {
   "cell_type": "code",
   "execution_count": null,
   "id": "f9443d61",
   "metadata": {},
   "outputs": [],
   "source": []
  }
 ],
 "metadata": {
  "kernelspec": {
   "display_name": "Python 3 (ipykernel)",
   "language": "python",
   "name": "python3"
  },
  "language_info": {
   "codemirror_mode": {
    "name": "ipython",
    "version": 3
   },
   "file_extension": ".py",
   "mimetype": "text/x-python",
   "name": "python",
   "nbconvert_exporter": "python",
   "pygments_lexer": "ipython3",
   "version": "3.9.12"
  }
 },
 "nbformat": 4,
 "nbformat_minor": 5
}
